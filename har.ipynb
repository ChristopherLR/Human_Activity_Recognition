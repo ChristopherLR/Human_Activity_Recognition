{
 "cells": [
  {
   "cell_type": "code",
   "execution_count": 46,
   "metadata": {},
   "outputs": [],
   "source": [
    "import numpy as np \n",
    "import pandas as pd \n",
    "from scipy import signal\n",
    "import matplotlib.pyplot as plt \n",
    "import math\n",
    "from sklearn import preprocessing\n",
    "from sklearn.neighbors import KNeighborsClassifier\n",
    "from sklearn.metrics import make_scorer, accuracy_score, confusion_matrix\n",
    "from sklearn.svm import SVC\n",
    "from sklearn.model_selection import GridSearchCV\n"
   ]
  },
  {
   "cell_type": "markdown",
   "metadata": {},
   "source": [
    "# Loading & Extracting"
   ]
  },
  {
   "cell_type": "code",
   "execution_count": 47,
   "metadata": {},
   "outputs": [],
   "source": [
    "def load_dataset(filename):\n",
    "    df = pd.read_csv(filename, sep=',', header=None)\n",
    "    return df\n",
    "\n",
    "# Extract each sensor and separate into body location \n",
    "# - reduce drops initial rows that may contain undesirable data\n",
    "def extract_sensors(df, reduce=500):\n",
    "    sensor_dict = {'wrist':{}, 'chest':{}, 'hip':{}, 'ankle':{}}\n",
    "    sensor_dict['all'] = df\n",
    "    reduced_dict = df.iloc[reduce:]\n",
    "    \n",
    "    sensor_dict['wrist']['accel'] = reduced_dict[[0,1,2]]\n",
    "    sensor_dict['wrist']['accel'].columns = ['Ax','Ay','Az']\n",
    "    sensor_dict['wrist']['gyro'] = reduced_dict[[3,4,5]] \n",
    "    sensor_dict['wrist']['gyro'].columns = ['Gx','Gy','Gz']\n",
    "    \n",
    "    sensor_dict['chest']['accel'] = reduced_dict[[6,7,8]]\n",
    "    sensor_dict['chest']['accel'].columns = ['Ax','Ay','Az']\n",
    "    sensor_dict['chest']['gyro'] = reduced_dict[[9,10,11]]\n",
    "    sensor_dict['chest']['gyro'].columns = ['Gx','Gy','Gz']\n",
    "    \n",
    "    sensor_dict['hip']['accel'] = reduced_dict[[12,13,14]]\n",
    "    sensor_dict['hip']['accel'].columns = ['Ax','Ay','Az']\n",
    "    sensor_dict['hip']['gyro'] = reduced_dict[[15,16,17]]\n",
    "    sensor_dict['hip']['gyro'].columns = ['Gx','Gy','Gz']\n",
    "    \n",
    "    sensor_dict['ankle']['accel'] = reduced_dict[[18,19,20]]\n",
    "    sensor_dict['ankle']['accel'].columns = ['Ax','Ay','Az']\n",
    "    sensor_dict['ankle']['gyro'] = reduced_dict[[21,22,23]]\n",
    "    sensor_dict['ankle']['gyro'].columns = ['Gx','Gy','Gz']\n",
    "    \n",
    "    return sensor_dict\n",
    "    "
   ]
  },
  {
   "cell_type": "markdown",
   "metadata": {},
   "source": [
    "| 0 | 1 | 2 | 3 | 4 | 5 | 6 | 7 | 8 | 9 | 10| 11| 12| 13| 14|15 | 16| 17|   18| 19| 20| 21| 22| 23| 24|\n",
    "|---|---|---|---|---|---|---|---|---|---|---|---|---|---|---|---|---|---|---|---|---|---|---|---|---|\n",
    "|Wrist:A1(X)|A2(Y)|A3(Z)|G1(x)|G2(Y)|G3(Z)|Chest:A1(X)|A2(Y)|A3(Z)|G1(X)|G2(Y)|G3(Z)|Hip:A1(X)|A2(Y)|A3(Z)|G1(X)|G2(Y)|G3(Z)|Ankle:A1(X)|A2(Y)|A3(Z)|G1(X)|G2(Y)|G3(Z)|Type|"
   ]
  },
  {
   "cell_type": "markdown",
   "metadata": {},
   "source": [
    "# Abstraction"
   ]
  },
  {
   "cell_type": "code",
   "execution_count": 48,
   "metadata": {},
   "outputs": [],
   "source": [
    "#Im not sure classes are really what i want?\n",
    "class Dataset:\n",
    "    def __init__(self, dataset_path):\n",
    "        df = load_dataset(dataset_path)\n",
    "        df.columns = list(range(24)) + ['type']\n",
    "        activities = df.groupby('type')\n",
    "        self.sample_rate = 200\n",
    "        self.data_frame = df\n",
    "        self.sitting = extract_sensors(activities.get_group(1))\n",
    "        self.lying = extract_sensors(activities.get_group(2))\n",
    "        self.standing = extract_sensors(activities.get_group(3))\n",
    "        self.washing_dishes = extract_sensors(activities.get_group(4))\n",
    "        self.vacuuming = extract_sensors(activities.get_group(5))\n",
    "        self.sweeping = extract_sensors(activities.get_group(6))\n",
    "        self.walking_outside = extract_sensors(activities.get_group(7))\n",
    "        self.ascending_stairs = extract_sensors(activities.get_group(8))\n",
    "        self.descending_stairs = extract_sensors(activities.get_group(9))\n",
    "        self.treadmill_running = extract_sensors(activities.get_group(10))\n",
    "        self.bicycling_50_watt = extract_sensors(activities.get_group(11))\n",
    "        self.bicycling_100_watt = extract_sensors(activities.get_group(12))\n",
    "        self.rope_jumping = extract_sensors(activities.get_group(13))\n",
    "            "
   ]
  },
  {
   "cell_type": "markdown",
   "metadata": {},
   "source": [
    "# Filtering"
   ]
  },
  {
   "cell_type": "code",
   "execution_count": 49,
   "metadata": {},
   "outputs": [],
   "source": [
    "# Filters\n",
    "def lowpass_filter(data, order, cutoff, sampling_rate=200):\n",
    "    nyquist_rate = sampling_rate / 2\n",
    "    Wn = cutoff / nyquist_rate\n",
    "    b, a = signal.butter(order, Wn, 'lowpass', analog=False)\n",
    "    num_columns = len(data.columns)\n",
    "    data = data.values\n",
    "    filtered_data = data    \n",
    "    for i in range(num_columns):\n",
    "        filtered_data[:,i] = signal.filtfilt(b, a, filtered_data[:,i])\n",
    "    return filtered_data"
   ]
  },
  {
   "cell_type": "markdown",
   "metadata": {},
   "source": [
    "# Visualising"
   ]
  },
  {
   "cell_type": "code",
   "execution_count": 50,
   "metadata": {},
   "outputs": [
    {
     "data": {
      "text/html": [
       "<div>\n",
       "<style scoped>\n",
       "    .dataframe tbody tr th:only-of-type {\n",
       "        vertical-align: middle;\n",
       "    }\n",
       "\n",
       "    .dataframe tbody tr th {\n",
       "        vertical-align: top;\n",
       "    }\n",
       "\n",
       "    .dataframe thead th {\n",
       "        text-align: right;\n",
       "    }\n",
       "</style>\n",
       "<table border=\"1\" class=\"dataframe\">\n",
       "  <thead>\n",
       "    <tr style=\"text-align: right;\">\n",
       "      <th></th>\n",
       "      <th>Ax</th>\n",
       "      <th>Ay</th>\n",
       "      <th>Az</th>\n",
       "    </tr>\n",
       "  </thead>\n",
       "  <tbody>\n",
       "    <tr>\n",
       "      <th>500</th>\n",
       "      <td>-0.20449</td>\n",
       "      <td>0.94963</td>\n",
       "      <td>0.24348</td>\n",
       "    </tr>\n",
       "    <tr>\n",
       "      <th>501</th>\n",
       "      <td>-0.20058</td>\n",
       "      <td>0.96566</td>\n",
       "      <td>0.24757</td>\n",
       "    </tr>\n",
       "    <tr>\n",
       "      <th>502</th>\n",
       "      <td>-0.20058</td>\n",
       "      <td>0.92157</td>\n",
       "      <td>0.25982</td>\n",
       "    </tr>\n",
       "    <tr>\n",
       "      <th>503</th>\n",
       "      <td>-0.21231</td>\n",
       "      <td>0.94161</td>\n",
       "      <td>0.24757</td>\n",
       "    </tr>\n",
       "    <tr>\n",
       "      <th>504</th>\n",
       "      <td>-0.20840</td>\n",
       "      <td>0.94161</td>\n",
       "      <td>0.26799</td>\n",
       "    </tr>\n",
       "  </tbody>\n",
       "</table>\n",
       "</div>"
      ],
      "text/plain": [
       "          Ax       Ay       Az\n",
       "500 -0.20449  0.94963  0.24348\n",
       "501 -0.20058  0.96566  0.24757\n",
       "502 -0.20058  0.92157  0.25982\n",
       "503 -0.21231  0.94161  0.24757\n",
       "504 -0.20840  0.94161  0.26799"
      ]
     },
     "execution_count": 50,
     "metadata": {},
     "output_type": "execute_result"
    }
   ],
   "source": [
    "person1 = Dataset('dataset/dataset_1.txt')\n",
    "person1.sitting['wrist']['accel'].head()"
   ]
  },
  {
   "cell_type": "code",
   "execution_count": null,
   "metadata": {},
   "outputs": [],
   "source": []
  },
  {
   "cell_type": "code",
   "execution_count": 51,
   "metadata": {},
   "outputs": [
    {
     "data": {
      "text/plain": [
       "<matplotlib.axes._subplots.AxesSubplot at 0x1c26f7ed68>"
      ]
     },
     "execution_count": 51,
     "metadata": {},
     "output_type": "execute_result"
    },
    {
     "data": {
      "image/png": "[encoded data removed]",
      "text/plain": [
       "<Figure size 432x288 with 1 Axes>"
      ]
     },
     "metadata": {
      "needs_background": "light"
     },
     "output_type": "display_data"
    },
    {
     "data": {
      "image/png": "[encoded data removed]",
      "text/plain": [
       "<Figure size 432x288 with 1 Axes>"
      ]
     },
     "metadata": {
      "needs_background": "light"
     },
     "output_type": "display_data"
    }
   ],
   "source": [
    "person1.sitting['wrist']['accel'][:1000].plot()\n",
    "data = lowpass_filter(person1.sitting['wrist']['accel'], 4, 5)\n",
    "person1.sitting['wrist']['accel'][:1000].plot()"
   ]
  },
  {
   "cell_type": "markdown",
   "metadata": {},
   "source": [
    "# Functions TODO:\n",
    "4. extract features -> sample code given\n",
    "5. prepare training set -> sample code given \n",
    "6. training the given models -> sample code given\n",
    "7. test the given models -> sample code given\n",
    "8. print out the evaluation results -> sample code given"
   ]
  },
  {
   "cell_type": "code",
   "execution_count": 52,
   "metadata": {},
   "outputs": [],
   "source": [
    "class Featured_dataset:\n",
    "    def __init__(self, dataset):\n",
    "        self.dataset = dataset\n",
    "    \n",
    "    def get_dataset(self):\n",
    "        return self.dataset\n",
    "        \n",
    "    def extract_features(features, window):\n",
    "        return 0\n",
    "    "
   ]
  },
  {
   "cell_type": "code",
   "execution_count": 53,
   "metadata": {},
   "outputs": [
    {
     "ename": "AttributeError",
     "evalue": "'Dataset' object has no attribute 'head'",
     "output_type": "error",
     "traceback": [
      "\u001b[0;31m---------------------------------------------------------------------------\u001b[0m",
      "\u001b[0;31mAttributeError\u001b[0m                            Traceback (most recent call last)",
      "\u001b[0;32m<ipython-input-53-bdb96051c392>\u001b[0m in \u001b[0;36m<module>\u001b[0;34m\u001b[0m\n\u001b[1;32m      1\u001b[0m \u001b[0mtrain1\u001b[0m \u001b[0;34m=\u001b[0m \u001b[0mFeatured_dataset\u001b[0m\u001b[0;34m(\u001b[0m\u001b[0mperson1\u001b[0m\u001b[0;34m)\u001b[0m\u001b[0;34m\u001b[0m\u001b[0;34m\u001b[0m\u001b[0m\n\u001b[0;32m----> 2\u001b[0;31m \u001b[0mtrain1\u001b[0m\u001b[0;34m.\u001b[0m\u001b[0mdataset\u001b[0m\u001b[0;34m.\u001b[0m\u001b[0mhead\u001b[0m\u001b[0;34m(\u001b[0m\u001b[0;34m)\u001b[0m\u001b[0;34m\u001b[0m\u001b[0;34m\u001b[0m\u001b[0m\n\u001b[0m",
      "\u001b[0;31mAttributeError\u001b[0m: 'Dataset' object has no attribute 'head'"
     ]
    }
   ],
   "source": [
    "train1 = Featured_dataset(person1)\n",
    "train1.dataset.head()"
   ]
  },
  {
   "cell_type": "markdown",
   "metadata": {},
   "source": [
    "# Feature Engineering\n"
   ]
  },
  {
   "cell_type": "code",
   "execution_count": 13,
   "metadata": {},
   "outputs": [],
   "source": [
    "def feature_engineering_example():\n",
    "    training = np.empty(shape=(0, 10))\n",
    "    testing = np.empty(shape=(0, 10))\n",
    "    # deal with each dataset file\n",
    "    for i in range(19):\n",
    "        df = pd.read_csv('dataset/dataset_' + str(i + 1) + '.txt', sep=',', header=None)\n",
    "        print('deal with dataset ' + str(i + 1))\n",
    "        for c in range(1, 14):\n",
    "            activity_data = df[df[24] == c].values\n",
    "            b, a = signal.butter(4, 0.04, 'low', analog=False)\n",
    "            for j in range(24):\n",
    "                activity_data[:, j] = signal.lfilter(b, a, activity_data[:, j])\n",
    "            \n",
    "            datat_len = len(activity_data)\n",
    "            training_len = math.floor(datat_len * 0.8)\n",
    "            training_data = activity_data[:training_len, :]\n",
    "            testing_data = activity_data[training_len:, :]\n",
    "\n",
    "            # data segementation: for time series data, we need to segment the whole time series, and then extract features from each period of time\n",
    "            # to represent the raw data. In this example code, we define each period of time contains 1000 data points. Each period of time contains \n",
    "            # different data points. You may consider overlap segmentation, which means consecutive two segmentation share a part of data points, to \n",
    "            # get more feature samples.\n",
    "            training_sample_number = training_len // 1000 + 1\n",
    "            testing_sample_number = (datat_len - training_len) // 1000 + 1\n",
    "\n",
    "            for s in range(training_sample_number):\n",
    "                if s < training_sample_number - 1:\n",
    "                    sample_data = training_data[1000*s:1000*(s + 1), :]\n",
    "                else:\n",
    "                    sample_data = training_data[1000*s:, :]\n",
    "                # in this example code, only three accelerometer data in wrist sensor is used to extract three simple features: min, max, and mean value in\n",
    "                # a period of time. Finally we get 9 features and 1 label to construct feature dataset. You may consider all sensors' data and extract more\n",
    "\n",
    "                feature_sample = []\n",
    "                for i in range(3):\n",
    "                    feature_sample.append(np.min(sample_data[:, i]))\n",
    "                    feature_sample.append(np.max(sample_data[:, i]))\n",
    "                    feature_sample.append(np.mean(sample_data[:, i]))\n",
    "                feature_sample.append(sample_data[0, -1])\n",
    "                feature_sample = np.array([feature_sample])\n",
    "                training = np.concatenate((training, feature_sample), axis=0)\n",
    "            \n",
    "            for s in range(testing_sample_number):\n",
    "                if s < training_sample_number - 1:\n",
    "                    sample_data = testing_data[1000*s:1000*(s + 1), :]\n",
    "                else:\n",
    "                    sample_data = testing_data[1000*s:, :]\n",
    "\n",
    "                feature_sample = []\n",
    "                for i in range(3):\n",
    "                    feature_sample.append(np.min(sample_data[:, i]))\n",
    "                    feature_sample.append(np.max(sample_data[:, i]))\n",
    "                    feature_sample.append(np.mean(sample_data[:, i]))\n",
    "                feature_sample.append(sample_data[0, -1])\n",
    "                feature_sample = np.array([feature_sample])\n",
    "                testing = np.concatenate((testing, feature_sample), axis=0)\n",
    "\n",
    "    df_training = pd.DataFrame(training)\n",
    "    df_testing = pd.DataFrame(testing)\n",
    "    df_training.to_csv('training_data.csv', index=None, header=None)\n",
    "    df_testing.to_csv('testing_data.csv', index=None, header=None)"
   ]
  },
  {
   "cell_type": "markdown",
   "metadata": {},
   "source": [
    "# Model Training & Evaluation Example\n",
    "When we have training and testing feature set, we could build machine learning models to recognize human activities.\n",
    "\n",
    "Please create new functions to fit your features and try other models."
   ]
  },
  {
   "cell_type": "code",
   "execution_count": 20,
   "metadata": {},
   "outputs": [],
   "source": [
    "def model_training_and_evaluation_example():\n",
    "    df_training = pd.read_csv('training_data.csv', header=None)\n",
    "    df_testing = pd.read_csv('testing_data.csv', header=None)\n",
    "\n",
    "    y_train = df_training[9].values\n",
    "    # Labels should start from 0 in sklearn\n",
    "    y_train = y_train - 1\n",
    "    df_training = df_training.drop([9], axis=1)\n",
    "    X_train = df_training.values\n",
    "\n",
    "    y_test = df_testing[9].values\n",
    "    y_test = y_test - 1\n",
    "    df_testing = df_testing.drop([9], axis=1)\n",
    "    X_test = df_testing.values\n",
    "    \n",
    "    # Feature normalization for improving the performance of machine learning models. In this example code, \n",
    "    # StandardScaler is used to scale original feature to be centered around zero. You could try other normalization methods.\n",
    "    scaler = preprocessing.StandardScaler().fit(X_train)\n",
    "    X_train = scaler.transform(X_train)\n",
    "    X_test = scaler.transform(X_test)\n",
    "\n",
    "    # Build KNN classifier, in this example code\n",
    "    knn = KNeighborsClassifier(n_neighbors=3)\n",
    "    knn.fit(X_train, y_train)\n",
    "\n",
    "    # Evaluation. when we train a machine learning model on training set, we should evaluate its performance on testing set.\n",
    "    # We could evaluate the model by different metrics. Firstly, we could calculate the classification accuracy. In this example\n",
    "    # code, when n_neighbors is set to 4, the accuracy achieves 0.757.\n",
    "    y_pred = knn.predict(X_test)\n",
    "    print('Accuracy: ', accuracy_score(y_test, y_pred))\n",
    "    # We could use confusion matrix to view the classification for each activity.\n",
    "    print(confusion_matrix(y_test, y_pred))\n",
    "    \n",
    "\n",
    "    # Another machine learning model: svm. In this example code, we use gridsearch to find the optimial classifier\n",
    "    # It will take a long time to find the optimal classifier.\n",
    "    # the accuracy for SVM classifier with default parameters is 0.71, \n",
    "    # which is worse than KNN. The reason may be parameters of svm classifier are not optimal.  \n",
    "    # Another reason may be we only use 9 features and they are not enough to build a good svm classifier. \n",
    "    tuned_parameters = [{'kernel': ['rbf'], 'gamma': [1e-1,1e-2, 1e-3, 1e-4],\n",
    "                     'C': [1e-3, 1e-2, 1e-1, 1, 10, 100, 100]},\n",
    "                    {'kernel': ['linear'], 'C': [1e-3, 1e-2, 1e-1, 1, 10, 100]}]\n",
    "    acc_scorer = make_scorer(accuracy_score)\n",
    "    grid_obj  = GridSearchCV(SVC(), tuned_parameters, cv=10, scoring=acc_scorer)\n",
    "    grid_obj  = grid_obj .fit(X_train, y_train)\n",
    "    clf = grid_obj.best_estimator_\n",
    "    print('best clf:', clf)\n",
    "    clf.fit(X_train, y_train)\n",
    "    y_pred = clf.predict(X_test)\n",
    "    print('Accuracy: ', accuracy_score(y_test, y_pred))\n",
    "    print(confusion_matrix(y_test, y_pred))\n",
    "\n",
    "# print(\"# Tuning hyper-parameters for %s\" % score)\n",
    "# print()\n",
    "# clf = GridSearchCV(SVC(), tuned_parameters, cv=10,\n",
    "#                    scoring=score)\n",
    "# clf.fit(x_train, y_train)"
   ]
  },
  {
   "cell_type": "code",
   "execution_count": 4,
   "metadata": {},
   "outputs": [
    {
     "data": {
      "image/png": "[encoded data removed]",
      "text/plain": [
       "<Figure size 432x288 with 1 Axes>"
      ]
     },
     "metadata": {
      "needs_background": "light"
     },
     "output_type": "display_data"
    },
    {
     "data": {
      "image/png": "[encoded data removed]",
      "text/plain": [
       "<Figure size 432x288 with 1 Axes>"
      ]
     },
     "metadata": {
      "needs_background": "light"
     },
     "output_type": "display_data"
    },
    {
     "name": "stdout",
     "output_type": "stream",
     "text": [
      "deal with dataset 1\n",
      "deal with dataset 2\n",
      "deal with dataset 3\n",
      "deal with dataset 4\n",
      "deal with dataset 5\n",
      "deal with dataset 6\n",
      "deal with dataset 7\n",
      "deal with dataset 8\n",
      "deal with dataset 9\n",
      "deal with dataset 10\n",
      "deal with dataset 11\n",
      "deal with dataset 12\n",
      "deal with dataset 13\n",
      "deal with dataset 14\n",
      "deal with dataset 15\n",
      "deal with dataset 16\n",
      "deal with dataset 17\n",
      "deal with dataset 18\n",
      "deal with dataset 19\n",
      "Accuracy:  0.7504798464491362\n",
      "[[ 43   3   0   0   0   1   0   0   0   0   7   3   0]\n",
      " [  3  54   0   0   0   0   0   0   0   0   0   0   0]\n",
      " [  0   3  48   1   2   0   1   0   0   0   1   1   0]\n",
      " [  2   0   2  84   4   5   1   1   0   0   0   0   0]\n",
      " [  0   0   1   8  36   7   1   3   0   0   1   0   0]\n",
      " [  1   1   2  14  26  32   4   1   1   0   1   2   0]\n",
      " [  1   0   6   4   2   6 191   4   5   0   0   0   0]\n",
      " [  0   0   1   0   0   2  14  21   1   0   0   0   0]\n",
      " [  0   0   0   1   0   1   9   2  24   0   1   0   0]\n",
      " [  0   0   0   0   0   0   0   0   0  96   0   0   0]\n",
      " [  0   0   1   3   2   7   2   0   0   0  58  27   0]\n",
      " [  0   0   1   1   0   0   0   0   0   0  39  59   0]\n",
      " [  0   0   0   1   0   0   1   0   0   0   0   0  36]]\n",
      "best clf: SVC(C=100, cache_size=200, class_weight=None, coef0=0.0,\n",
      "  decision_function_shape='ovr', degree=3, gamma=0.01, kernel='rbf',\n",
      "  max_iter=-1, probability=False, random_state=None, shrinking=True,\n",
      "  tol=0.001, verbose=False)\n",
      "Accuracy:  0.710172744721689\n",
      "[[ 35   3   0   0   0   0   0   0   0   0  16   3   0]\n",
      " [  6  51   0   0   0   0   0   0   0   0   0   0   0]\n",
      " [  0   3  48   1   1   0   2   0   0   0   1   1   0]\n",
      " [  2   0   2  84   6   3   1   0   0   0   0   1   0]\n",
      " [  0   0   5   5  36   6   4   0   0   0   0   1   0]\n",
      " [  0   1   3   7  27  35   9   0   1   0   0   2   0]\n",
      " [  0   0   3   5   1   8 202   0   0   0   0   0   0]\n",
      " [  0   0   1   0   0   1  37   0   0   0   0   0   0]\n",
      " [  0   0   2   2   0   2  18   0  13   0   1   0   0]\n",
      " [  0   0   0   0   0   0   0   0   0  96   0   0   0]\n",
      " [  3   0   0   2   0   9   2   0   0   0  70  14   0]\n",
      " [  0   0   0   2   0   0   0   0   0   0  64  34   0]\n",
      " [  0   0   1   0   0   1   0   0   0   0   0   0  36]]\n"
     ]
    }
   ],
   "source": [
    "if __name__ == '__main__':\n",
    "    \n",
    "    data_visulization()\n",
    "    noise_removing()\n",
    "    feature_engineering_example()\n",
    "    model_training_and_evaluation_example()"
   ]
  },
  {
   "cell_type": "code",
   "execution_count": null,
   "metadata": {},
   "outputs": [],
   "source": []
  }
 ],
 "metadata": {
  "kernelspec": {
   "display_name": "Python 3",
   "language": "python",
   "name": "python3"
  },
  "language_info": {
   "codemirror_mode": {
    "name": "ipython",
    "version": 3
   },
   "file_extension": ".py",
   "mimetype": "text/x-python",
   "name": "python",
   "nbconvert_exporter": "python",
   "pygments_lexer": "ipython3",
   "version": "3.7.1"
  }
 },
 "nbformat": 4,
 "nbformat_minor": 2
}
