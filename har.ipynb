{
 "cells": [
  {
   "cell_type": "code",
   "execution_count": 3,
   "metadata": {},
   "outputs": [],
   "source": [
    "from har import *"
   ]
  },
  {
   "cell_type": "code",
   "execution_count": 11,
   "metadata": {},
   "outputs": [],
   "source": [
    "dataset_dr = 'dataset/dataset_1.txt'"
   ]
  },
  {
   "cell_type": "markdown",
   "metadata": {},
   "source": [
    "# Functions TODO:\n",
    "1. load dataset ->  sample code availalable in the workshops\n",
    "2. visualize data -> sample code given\n",
    "3. remove signal noises -> sample code given\n",
    "4. extract features -> sample code given\n",
    "5. prepare training set -> sample code given \n",
    "6. training the given models -> sample code given\n",
    "7. test the given models -> sample code given\n",
    "8. print out the evaluation results -> sample code given\n",
    "\n",
    "# Notes\n",
    "* as I said in the lecture, the sample code is completed in a un-professional software engineering style\n",
    "* software refactoring is required\n",
    "* please manage the project using SCRUM sprints and manage the source code using Github\n",
    "* document your progress and think critically what are missing from such IoT application and what are missing to move such IoT application from PoC (proof of concept) to solve real-world life\n",
    "* think with which components added, what kind of real-world problems can be solved by it -> this shall be discussed in the conclusion part in the document"
   ]
  },
  {
   "cell_type": "markdown",
   "metadata": {},
   "source": [
    "# Data Visualisation\n",
    "At first, we should explore the raw time-series sensor data. We could draw line plot of sensor signals.\n",
    "In this example code, the wrist sensor accelerometer data dataset_1 sitting activity is visualized. "
   ]
  },
  {
   "cell_type": "code",
   "execution_count": 2,
   "metadata": {},
   "outputs": [],
   "source": [
    "\n",
    "def data_visulization():\n",
    "    # read dataset file\n",
    "    df = pd.read_csv(dataset, sep=',', header=None)\n",
    "    df_sitting = df[df[24] == 1].values\n",
    "    # In this example code, only accelerometer 1 data (column 1 to 3) is used\n",
    "    plt.plot(df_sitting[:, 0:3])\n",
    "    plt.show()"
   ]
  },
  {
   "cell_type": "markdown",
   "metadata": {},
   "source": [
    "# Noise Removing\n",
    "For raw sensor data, it usually contains noise that arises from different sources, such as sensor mis-\n",
    "calibration, sensor errors, errors in sensor placement, or noisy environments. We could apply filter to remove noise of sensor data\n",
    "to smooth data. In this example code, Butterworth low-pass filter is applied. "
   ]
  },
  {
   "cell_type": "code",
   "execution_count": 12,
   "metadata": {},
   "outputs": [],
   "source": [
    "def noise_removing():\n",
    "    df = pd.read_csv(dataset_dr, sep=',', header=None)\n",
    "    # Butterworth low-pass filter. You could try different parameters and other filters. \n",
    "    b, a = signal.butter(4, 0.04, 'low', analog=False)\n",
    "    df_sitting = df[df[24] == 1].values\n",
    "    for i in range(3):\n",
    "        df_sitting[:,i] = signal.lfilter(b, a, df_sitting[:, i])\n",
    "    plt.plot(df_sitting[15000:20000, 0:3])\n",
    "    plt.show()"
   ]
  },
  {
   "cell_type": "markdown",
   "metadata": {},
   "source": [
    "# Feature Engineering Example\n",
    "To build a human activity recognition system, we need to extract features from raw data and create feature dataset for training \n",
    "machine learning models.\n",
    "\n",
    "Please create new functions to implement your own feature engineering. The function should output training and testing dataset."
   ]
  },
  {
   "cell_type": "code",
   "execution_count": 13,
   "metadata": {},
   "outputs": [],
   "source": [
    "def feature_engineering_example():\n",
    "    training = np.empty(shape=(0, 10))\n",
    "    testing = np.empty(shape=(0, 10))\n",
    "    # deal with each dataset file\n",
    "    for i in range(19):\n",
    "        df = pd.read_csv('dataset/dataset_' + str(i + 1) + '.txt', sep=',', header=None)\n",
    "        print('deal with dataset ' + str(i + 1))\n",
    "        for c in range(1, 14):\n",
    "            activity_data = df[df[24] == c].values\n",
    "            b, a = signal.butter(4, 0.04, 'low', analog=False)\n",
    "            for j in range(24):\n",
    "                activity_data[:, j] = signal.lfilter(b, a, activity_data[:, j])\n",
    "            \n",
    "            datat_len = len(activity_data)\n",
    "            training_len = math.floor(datat_len * 0.8)\n",
    "            training_data = activity_data[:training_len, :]\n",
    "            testing_data = activity_data[training_len:, :]\n",
    "\n",
    "            # data segementation: for time series data, we need to segment the whole time series, and then extract features from each period of time\n",
    "            # to represent the raw data. In this example code, we define each period of time contains 1000 data points. Each period of time contains \n",
    "            # different data points. You may consider overlap segmentation, which means consecutive two segmentation share a part of data points, to \n",
    "            # get more feature samples.\n",
    "            training_sample_number = training_len // 1000 + 1\n",
    "            testing_sample_number = (datat_len - training_len) // 1000 + 1\n",
    "\n",
    "            for s in range(training_sample_number):\n",
    "                if s < training_sample_number - 1:\n",
    "                    sample_data = training_data[1000*s:1000*(s + 1), :]\n",
    "                else:\n",
    "                    sample_data = training_data[1000*s:, :]\n",
    "                # in this example code, only three accelerometer data in wrist sensor is used to extract three simple features: min, max, and mean value in\n",
    "                # a period of time. Finally we get 9 features and 1 label to construct feature dataset. You may consider all sensors' data and extract more\n",
    "\n",
    "                feature_sample = []\n",
    "                for i in range(3):\n",
    "                    feature_sample.append(np.min(sample_data[:, i]))\n",
    "                    feature_sample.append(np.max(sample_data[:, i]))\n",
    "                    feature_sample.append(np.mean(sample_data[:, i]))\n",
    "                feature_sample.append(sample_data[0, -1])\n",
    "                feature_sample = np.array([feature_sample])\n",
    "                training = np.concatenate((training, feature_sample), axis=0)\n",
    "            \n",
    "            for s in range(testing_sample_number):\n",
    "                if s < training_sample_number - 1:\n",
    "                    sample_data = testing_data[1000*s:1000*(s + 1), :]\n",
    "                else:\n",
    "                    sample_data = testing_data[1000*s:, :]\n",
    "\n",
    "                feature_sample = []\n",
    "                for i in range(3):\n",
    "                    feature_sample.append(np.min(sample_data[:, i]))\n",
    "                    feature_sample.append(np.max(sample_data[:, i]))\n",
    "                    feature_sample.append(np.mean(sample_data[:, i]))\n",
    "                feature_sample.append(sample_data[0, -1])\n",
    "                feature_sample = np.array([feature_sample])\n",
    "                testing = np.concatenate((testing, feature_sample), axis=0)\n",
    "\n",
    "    df_training = pd.DataFrame(training)\n",
    "    df_testing = pd.DataFrame(testing)\n",
    "    df_training.to_csv('training_data.csv', index=None, header=None)\n",
    "    df_testing.to_csv('testing_data.csv', index=None, header=None)"
   ]
  },
  {
   "cell_type": "markdown",
   "metadata": {},
   "source": [
    "# Model Training & Evaluation Example\n",
    "When we have training and testing feature set, we could build machine learning models to recognize human activities.\n",
    "\n",
    "Please create new functions to fit your features and try other models."
   ]
  },
  {
   "cell_type": "code",
   "execution_count": 20,
   "metadata": {},
   "outputs": [],
   "source": [
    "def model_training_and_evaluation_example():\n",
    "    df_training = pd.read_csv('training_data.csv', header=None)\n",
    "    df_testing = pd.read_csv('testing_data.csv', header=None)\n",
    "\n",
    "    y_train = df_training[9].values\n",
    "    # Labels should start from 0 in sklearn\n",
    "    y_train = y_train - 1\n",
    "    df_training = df_training.drop([9], axis=1)\n",
    "    X_train = df_training.values\n",
    "\n",
    "    y_test = df_testing[9].values\n",
    "    y_test = y_test - 1\n",
    "    df_testing = df_testing.drop([9], axis=1)\n",
    "    X_test = df_testing.values\n",
    "    \n",
    "    # Feature normalization for improving the performance of machine learning models. In this example code, \n",
    "    # StandardScaler is used to scale original feature to be centered around zero. You could try other normalization methods.\n",
    "    scaler = preprocessing.StandardScaler().fit(X_train)\n",
    "    X_train = scaler.transform(X_train)\n",
    "    X_test = scaler.transform(X_test)\n",
    "\n",
    "    # Build KNN classifier, in this example code\n",
    "    knn = KNeighborsClassifier(n_neighbors=3)\n",
    "    knn.fit(X_train, y_train)\n",
    "\n",
    "    # Evaluation. when we train a machine learning model on training set, we should evaluate its performance on testing set.\n",
    "    # We could evaluate the model by different metrics. Firstly, we could calculate the classification accuracy. In this example\n",
    "    # code, when n_neighbors is set to 4, the accuracy achieves 0.757.\n",
    "    y_pred = knn.predict(X_test)\n",
    "    print('Accuracy: ', accuracy_score(y_test, y_pred))\n",
    "    # We could use confusion matrix to view the classification for each activity.\n",
    "    print(confusion_matrix(y_test, y_pred))\n",
    "    \n",
    "\n",
    "    # Another machine learning model: svm. In this example code, we use gridsearch to find the optimial classifier\n",
    "    # It will take a long time to find the optimal classifier.\n",
    "    # the accuracy for SVM classifier with default parameters is 0.71, \n",
    "    # which is worse than KNN. The reason may be parameters of svm classifier are not optimal.  \n",
    "    # Another reason may be we only use 9 features and they are not enough to build a good svm classifier. \n",
    "    tuned_parameters = [{'kernel': ['rbf'], 'gamma': [1e-1,1e-2, 1e-3, 1e-4],\n",
    "                     'C': [1e-3, 1e-2, 1e-1, 1, 10, 100, 100]},\n",
    "                    {'kernel': ['linear'], 'C': [1e-3, 1e-2, 1e-1, 1, 10, 100]}]\n",
    "    acc_scorer = make_scorer(accuracy_score)\n",
    "    grid_obj  = GridSearchCV(SVC(), tuned_parameters, cv=10, scoring=acc_scorer)\n",
    "    grid_obj  = grid_obj .fit(X_train, y_train)\n",
    "    clf = grid_obj.best_estimator_\n",
    "    print('best clf:', clf)\n",
    "    clf.fit(X_train, y_train)\n",
    "    y_pred = clf.predict(X_test)\n",
    "    print('Accuracy: ', accuracy_score(y_test, y_pred))\n",
    "    print(confusion_matrix(y_test, y_pred))\n",
    "\n",
    "# print(\"# Tuning hyper-parameters for %s\" % score)\n",
    "# print()\n",
    "# clf = GridSearchCV(SVC(), tuned_parameters, cv=10,\n",
    "#                    scoring=score)\n",
    "# clf.fit(x_train, y_train)"
   ]
  },
  {
   "cell_type": "code",
   "execution_count": 4,
   "metadata": {},
   "outputs": [
    {
     "data": {
      "image/png": "[encoded data removed]",
      "text/plain": [
       "<Figure size 432x288 with 1 Axes>"
      ]
     },
     "metadata": {
      "needs_background": "light"
     },
     "output_type": "display_data"
    },
    {
     "data": {
      "image/png": "[encoded data removed]",
      "text/plain": [
       "<Figure size 432x288 with 1 Axes>"
      ]
     },
     "metadata": {
      "needs_background": "light"
     },
     "output_type": "display_data"
    },
    {
     "name": "stdout",
     "output_type": "stream",
     "text": [
      "deal with dataset 1\n",
      "deal with dataset 2\n",
      "deal with dataset 3\n",
      "deal with dataset 4\n",
      "deal with dataset 5\n",
      "deal with dataset 6\n",
      "deal with dataset 7\n",
      "deal with dataset 8\n",
      "deal with dataset 9\n",
      "deal with dataset 10\n",
      "deal with dataset 11\n",
      "deal with dataset 12\n",
      "deal with dataset 13\n",
      "deal with dataset 14\n",
      "deal with dataset 15\n",
      "deal with dataset 16\n",
      "deal with dataset 17\n",
      "deal with dataset 18\n",
      "deal with dataset 19\n",
      "Accuracy:  0.7504798464491362\n",
      "[[ 43   3   0   0   0   1   0   0   0   0   7   3   0]\n",
      " [  3  54   0   0   0   0   0   0   0   0   0   0   0]\n",
      " [  0   3  48   1   2   0   1   0   0   0   1   1   0]\n",
      " [  2   0   2  84   4   5   1   1   0   0   0   0   0]\n",
      " [  0   0   1   8  36   7   1   3   0   0   1   0   0]\n",
      " [  1   1   2  14  26  32   4   1   1   0   1   2   0]\n",
      " [  1   0   6   4   2   6 191   4   5   0   0   0   0]\n",
      " [  0   0   1   0   0   2  14  21   1   0   0   0   0]\n",
      " [  0   0   0   1   0   1   9   2  24   0   1   0   0]\n",
      " [  0   0   0   0   0   0   0   0   0  96   0   0   0]\n",
      " [  0   0   1   3   2   7   2   0   0   0  58  27   0]\n",
      " [  0   0   1   1   0   0   0   0   0   0  39  59   0]\n",
      " [  0   0   0   1   0   0   1   0   0   0   0   0  36]]\n",
      "best clf: SVC(C=100, cache_size=200, class_weight=None, coef0=0.0,\n",
      "  decision_function_shape='ovr', degree=3, gamma=0.01, kernel='rbf',\n",
      "  max_iter=-1, probability=False, random_state=None, shrinking=True,\n",
      "  tol=0.001, verbose=False)\n",
      "Accuracy:  0.710172744721689\n",
      "[[ 35   3   0   0   0   0   0   0   0   0  16   3   0]\n",
      " [  6  51   0   0   0   0   0   0   0   0   0   0   0]\n",
      " [  0   3  48   1   1   0   2   0   0   0   1   1   0]\n",
      " [  2   0   2  84   6   3   1   0   0   0   0   1   0]\n",
      " [  0   0   5   5  36   6   4   0   0   0   0   1   0]\n",
      " [  0   1   3   7  27  35   9   0   1   0   0   2   0]\n",
      " [  0   0   3   5   1   8 202   0   0   0   0   0   0]\n",
      " [  0   0   1   0   0   1  37   0   0   0   0   0   0]\n",
      " [  0   0   2   2   0   2  18   0  13   0   1   0   0]\n",
      " [  0   0   0   0   0   0   0   0   0  96   0   0   0]\n",
      " [  3   0   0   2   0   9   2   0   0   0  70  14   0]\n",
      " [  0   0   0   2   0   0   0   0   0   0  64  34   0]\n",
      " [  0   0   1   0   0   1   0   0   0   0   0   0  36]]\n"
     ]
    }
   ],
   "source": [
    "if __name__ == '__main__':\n",
    "    \n",
    "    data_visulization()\n",
    "    noise_removing()\n",
    "    feature_engineering_example()\n",
    "    model_training_and_evaluation_example()"
   ]
  },
  {
   "cell_type": "code",
   "execution_count": null,
   "metadata": {},
   "outputs": [],
   "source": []
  }
 ],
 "metadata": {
  "kernelspec": {
   "display_name": "Python 3",
   "language": "python",
   "name": "python3"
  },
  "language_info": {
   "codemirror_mode": {
    "name": "ipython",
    "version": 3
   },
   "file_extension": ".py",
   "mimetype": "text/x-python",
   "name": "python",
   "nbconvert_exporter": "python",
   "pygments_lexer": "ipython3",
   "version": "3.7.1"
  }
 },
 "nbformat": 4,
 "nbformat_minor": 2
}
